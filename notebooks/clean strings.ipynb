{
 "cells": [
  {
   "cell_type": "code",
   "execution_count": 35,
   "id": "fcb6bd4d",
   "metadata": {},
   "outputs": [
    {
     "name": "stdout",
     "output_type": "stream",
     "text": [
      "             raw\n",
      "0           BOB(\n",
      "1        dana~  \n",
      "2          {EVE/\n",
      "3      \"ALICE   \n",
      "4            BOB\n",
      "5           DANA\n",
      "6        CHARLIE\n",
      "7       alice   \n",
      "8          FRANK\n",
      "9            bob\n",
      "10           eve\n",
      "11        \\dana'\n",
      "12           EVE\n",
      "13      CHARLIE \n",
      "14          -eve\n",
      "15        bob   \n",
      "16           EVE\n",
      "17     .FRANK   \n",
      "18          eve \n",
      "19           EVE\n",
      "20          BOB&\n",
      "21      charlie\"\n",
      "22    ,charlie  \n",
      "23         EVE  \n",
      "24         ]dana\n",
      "25     charlie  \n",
      "26        alice+\n",
      "27         EVE{ \n",
      "28          DANA\n",
      "29       frank  \n",
      "30      CHARLIE!\n",
      "31      |ALICE# \n",
      "32           BOB\n",
      "33        frank^\n",
      "34         alice\n",
      "35          'bob\n",
      "36       CHARLIE\n",
      "37         eve+ \n",
      "38      CHARLIE \n",
      "39       charlie\n",
      "40         dana#\n",
      "41       DANA   \n",
      "42          dana\n",
      "43       CHARLIE\n",
      "44    =charlie! \n",
      "45        bob   \n",
      "46           bob\n",
      "47       ;EVE   \n",
      "48    =charlie  \n",
      "49          dana\n"
     ]
    }
   ],
   "source": [
    "import pandas as pd\n",
    "\n",
    "df_raw = pd.read_csv(\"../data/messy_strings.csv\")\n",
    "\n",
    "print(df_raw)"
   ]
  },
  {
   "cell_type": "code",
   "execution_count": 36,
   "id": "2865f43b",
   "metadata": {},
   "outputs": [],
   "source": [
    "import re, string\n",
    "\n",
    "def clean_strings(strings):\n",
    "    strings = strings.dropna()\n",
    "    strings = strings.astype(str)\n",
    "    strings = strings.str.strip()\n",
    "    strings = strings.str.lower()\n",
    "    strings.str.replace(re.escape(string.punctuation), \"\")\n",
    "    return strings"
   ]
  },
  {
   "cell_type": "code",
   "execution_count": 37,
   "id": "80074d85",
   "metadata": {},
   "outputs": [
    {
     "name": "stdout",
     "output_type": "stream",
     "text": [
      "        clean\n",
      "0        bob(\n",
      "1       dana~\n",
      "2       {eve/\n",
      "3      \"alice\n",
      "4         bob\n",
      "5        dana\n",
      "6     charlie\n",
      "7       alice\n",
      "8       frank\n",
      "9         bob\n",
      "10        eve\n",
      "11     \\dana'\n",
      "12        eve\n",
      "13    charlie\n",
      "14       -eve\n",
      "15        bob\n",
      "16        eve\n",
      "17     .frank\n",
      "18        eve\n",
      "19        eve\n",
      "20       bob&\n",
      "21   charlie\"\n",
      "22   ,charlie\n",
      "23        eve\n",
      "24      ]dana\n",
      "25    charlie\n",
      "26     alice+\n",
      "27       eve{\n",
      "28       dana\n",
      "29      frank\n",
      "30   charlie!\n",
      "31    |alice#\n",
      "32        bob\n",
      "33     frank^\n",
      "34      alice\n",
      "35       'bob\n",
      "36    charlie\n",
      "37       eve+\n",
      "38    charlie\n",
      "39    charlie\n",
      "40      dana#\n",
      "41       dana\n",
      "42       dana\n",
      "43    charlie\n",
      "44  =charlie!\n",
      "45        bob\n",
      "46        bob\n",
      "47       ;eve\n",
      "48   =charlie\n",
      "49       dana\n"
     ]
    }
   ],
   "source": [
    "df_clean = pd.DataFrame()\n",
    "df_clean['clean'] = clean_strings(df_raw['raw'])\n",
    "\n",
    "print(df_clean)"
   ]
  },
  {
   "cell_type": "code",
   "execution_count": 38,
   "id": "0a946f7b",
   "metadata": {},
   "outputs": [
    {
     "name": "stdout",
     "output_type": "stream",
     "text": [
      "Statistics for cleaned data\n",
      "-------\n",
      "Total Rows: 50\n",
      "Unique Counts: 28\n",
      "Most Common String: charlie\n"
     ]
    }
   ],
   "source": [
    "print(\"Statistics for cleaned data\")\n",
    "print(\"-------\")\n",
    "print(f\"Total Rows: {len(df_clean)}\")\n",
    "unique = df_clean.nunique()\n",
    "print(f\"Unique Counts: {unique['clean']}\")\n",
    "counts = df_clean[\"clean\"].value_counts()\n",
    "print(f\"Most Common String: {counts.index[0]}\")"
   ]
  },
  {
   "cell_type": "code",
   "execution_count": 39,
   "id": "c9f686eb",
   "metadata": {},
   "outputs": [],
   "source": [
    "df_clean.to_csv('../data/messy_strings_clean.csv', index=False)"
   ]
  },
  {
   "cell_type": "code",
   "execution_count": 40,
   "id": "a3807e0c",
   "metadata": {},
   "outputs": [
    {
     "data": {
      "text/plain": [
       "<Axes: xlabel='clean'>"
      ]
     },
     "execution_count": 40,
     "metadata": {},
     "output_type": "execute_result"
    },
    {
     "data": {
      "image/png": "[encoded data removed]",
      "text/plain": [
       "<Figure size 640x480 with 1 Axes>"
      ]
     },
     "metadata": {},
     "output_type": "display_data"
    }
   ],
   "source": [
    "df_clean['clean'].value_counts().head(5).plot.bar()"
   ]
  }
 ],
 "metadata": {
  "kernelspec": {
   "display_name": "lab_3",
   "language": "python",
   "name": "python3"
  },
  "language_info": {
   "codemirror_mode": {
    "name": "ipython",
    "version": 3
   },
   "file_extension": ".py",
   "mimetype": "text/x-python",
   "name": "python",
   "nbconvert_exporter": "python",
   "pygments_lexer": "ipython3",
   "version": "3.13.5"
  }
 },
 "nbformat": 4,
 "nbformat_minor": 5
}
